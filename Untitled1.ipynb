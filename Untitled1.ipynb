{
 "cells": [
  {
   "cell_type": "code",
   "execution_count": 18,
   "metadata": {},
   "outputs": [
    {
     "name": "stdout",
     "output_type": "stream",
     "text": [
      "[0. 0. 0.] 0\n",
      "[-1.  0.  0.] 0\n",
      "[-1.  0. -1.] 0\n",
      "[-1. -1. -1.] 0\n"
     ]
    }
   ],
   "source": [
    "import numpy as np\n",
    "\n",
    "X = np.array([\n",
    "    [-1,0,0],\n",
    "    [0,0,-1],\n",
    "    [0,-1,0],\n",
    "    \n",
    "    \n",
    "    \n",
    "])\n",
    "\n",
    "#X = np.array([\n",
    "#    [-1,-1],\n",
    "#    [1,0],\n",
    "#    [-1,10],\n",
    "    \n",
    "#])\n",
    "\n",
    "\n",
    "y = np.array([1,1,1])\n",
    "\n",
    "def perceptron_sgd(X, Y):\n",
    "    w = np.zeros(len(X[0]))\n",
    "    theta0=0\n",
    "    #w=[-1,0]\n",
    "    #w=[1,0]\n",
    "    #theta0=-3\n",
    "    eta = 1\n",
    "    epochs = 30\n",
    "\n",
    "    for t in range(epochs):\n",
    "        for i, x in enumerate(X):\n",
    "            if ((np.dot(X[i], w)+theta0)*Y[i]) <= 0:\n",
    "                print(w,theta0)\n",
    "                w = w + eta*X[i]*Y[i]\n",
    "                theta0=0\n",
    "\n",
    "    return w,theta0\n",
    "\n",
    "theta,theta0 = perceptron_sgd(X,y)\n",
    "print(theta,theta0)"
   ]
  },
  {
   "cell_type": "code",
   "execution_count": 6,
   "metadata": {},
   "outputs": [
    {
     "data": {
      "text/plain": [
       "<Figure size 1440x1440 with 0 Axes>"
      ]
     },
     "metadata": {},
     "output_type": "display_data"
    }
   ],
   "source": [
    "import matplotlib.pyplot as plt\n",
    "#fig, ax = plt.subplots()\n",
    "plt.figure(figsize=(20,20))\n",
    "def plot(theta,theta0):\n",
    "    x=np.linspace(-10,10,30)\n",
    "    plt.axhline(y=0, color='k')\n",
    "    plt.axvline(x=0, color='k')\n",
    "    y=[-(theta[0]*i+theta0)/theta[1] for i in x]\n",
    "    plt.plot(x,y)\n",
    "    plt.grid(True)\n",
    "\n"
   ]
  },
  {
   "cell_type": "code",
   "execution_count": 16,
   "metadata": {},
   "outputs": [
    {
     "data": {
      "image/png": "[encoded data removed]",
      "text/plain": [
       "<Figure size 432x288 with 1 Axes>"
      ]
     },
     "metadata": {
      "needs_background": "light"
     },
     "output_type": "display_data"
    }
   ],
   "source": [
    "\n",
    "plt.scatter([X[i][0] for i in range(2)],[X[i][1] for i in range(2)],c=['#1f77b4','#1f77b4'])##---- '#d62728'\n",
    "plt.xlim(-2,2)\n",
    "plt.ylim(-2,2)\n",
    "\n",
    "plot([-1,-1],0) #answers"
   ]
  },
  {
   "cell_type": "code",
   "execution_count": null,
   "metadata": {},
   "outputs": [],
   "source": []
  }
 ],
 "metadata": {
  "kernelspec": {
   "display_name": "Python 3",
   "language": "python",
   "name": "python3"
  },
  "language_info": {
   "codemirror_mode": {
    "name": "ipython",
    "version": 3
   },
   "file_extension": ".py",
   "mimetype": "text/x-python",
   "name": "python",
   "nbconvert_exporter": "python",
   "pygments_lexer": "ipython3",
   "version": "3.7.3"
  }
 },
 "nbformat": 4,
 "nbformat_minor": 4
}

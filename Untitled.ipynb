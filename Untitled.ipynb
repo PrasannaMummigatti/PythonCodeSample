{
 "cells": [
  {
   "cell_type": "code",
   "execution_count": 2,
   "metadata": {},
   "outputs": [
    {
     "name": "stdout",
     "output_type": "stream",
     "text": [
      "[-3, 2] -4\n",
      "[-2  1] -3\n",
      "[-3  2] -2\n",
      "[-2  1] -1\n",
      "[-1  0] 0\n",
      "[ 0 -1] 1\n",
      "[-1 -2] 0\n",
      "[-2 -1] 1\n",
      "[-1 -2] 2\n"
     ]
    }
   ],
   "source": [
    "import numpy as np\n",
    "\n",
    "X = np.array([\n",
    "    [-1,1],\n",
    "    [1,-1],\n",
    "    [1,1],\n",
    "    [2,2],\n",
    "    \n",
    "])\n",
    "\n",
    "y = np.array([1,1,-1,-1])\n",
    "\n",
    "def perceptron_sgd(X, Y):\n",
    "    w = np.zeros(len(X[0]))\n",
    "    theta0=0\n",
    "    w=[-3,2]\n",
    "    theta0=-4\n",
    "    eta = 1\n",
    "    epochs = 20\n",
    "\n",
    "    for t in range(epochs):\n",
    "        for i, x in enumerate(X):\n",
    "            if ((np.dot(X[i], w)+theta0)*Y[i]) <= 0:\n",
    "                print(w,theta0)\n",
    "                w = w + eta*X[i]*Y[i]\n",
    "                theta0=theta0+Y[i]\n",
    "\n",
    "    return w,theta0\n",
    "\n",
    "theta,theta0 = perceptron_sgd(X,y)\n",
    "print(theta,theta0)"
   ]
  },
  {
   "cell_type": "code",
   "execution_count": 3,
   "metadata": {},
   "outputs": [],
   "source": [
    "import matplotlib.pyplot as plt\n",
    "#fig, ax = plt.subplots()\n",
    "plt.figure(figsize=(20,20))\n",
    "def plot(theta,theta0):\n",
    "    x=np.linspace(-10,10,30)\n",
    "    plt.axhline(y=0, color='k')\n",
    "    plt.axvline(x=0, color='k')\n",
    "    y=[-(theta[0]*i+theta0)/theta[1] for i in x]\n",
    "    plt.plot(x,y)\n",
    "    plt.grid(True)\n"
   ]
  },
  {
   "cell_type": "code",
   "execution_count": 5,
   "metadata": {},
   "outputs": [
    {
     "data": {
      "image/png": "[encoded data removed]",
      "text/plain": [
       "<Figure size 432x288 with 1 Axes>"
      ]
     },
     "metadata": {
      "needs_background": "light"
     },
     "output_type": "display_data"
    }
   ],
   "source": [
    "plt.scatter([X[i][0] for i in range(4)],[X[i][1] for i in range(4)],c=['#1f77b4', '#1f77b4', '#d62728', '#d62728'])\n",
    "plt.xlim(-5,5)\n",
    "plt.ylim(-5,5)\n",
    "#plot([-4,1],-6) #answers\n",
    "plot([-1,-2],2) #answers\n",
    "#plot([-3,3],-3) #answers\n",
    "#plot([-3,2],-4)\n",
    "#plot([-3,2],-4)\n",
    "#plot([0,1],1)\n"
   ]
  },
  {
   "cell_type": "code",
   "execution_count": null,
   "metadata": {},
   "outputs": [],
   "source": []
  }
 ],
 "metadata": {
  "kernelspec": {
   "display_name": "Python 3",
   "language": "python",
   "name": "python3"
  },
  "language_info": {
   "codemirror_mode": {
    "name": "ipython",
    "version": 3
   },
   "file_extension": ".py",
   "mimetype": "text/x-python",
   "name": "python",
   "nbconvert_exporter": "python",
   "pygments_lexer": "ipython3",
   "version": "3.7.3"
  }
 },
 "nbformat": 4,
 "nbformat_minor": 4
}

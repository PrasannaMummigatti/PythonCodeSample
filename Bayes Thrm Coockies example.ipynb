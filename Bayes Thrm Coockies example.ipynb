{
 "cells": [
  {
   "cell_type": "markdown",
   "metadata": {},
   "source": [
    "<h1>The cookie problem"
   ]
  },
  {
   "cell_type": "markdown",
   "metadata": {},
   "source": [
    "<B> Suppose there are two bowls of cookies. Bowl 1\n",
    "contains 30 vanilla cookies and 10 chocolate cookies. Bowl 2 contains 20 of\n",
    "each.\n",
    "Now suppose you choose one of the bowls at random and, without looking,\n",
    "select a cookie at random. The cookie is vanilla. What is the probability that\n",
    "it came from Bowl 1?"
   ]
  },
  {
   "cell_type": "code",
   "execution_count": 1,
   "metadata": {},
   "outputs": [],
   "source": [
    "import numpy as np\n",
    "import pandas as pd\n",
    "import random"
   ]
  },
  {
   "cell_type": "code",
   "execution_count": 84,
   "metadata": {},
   "outputs": [],
   "source": [
    "# First Bowl 30 Vanilla Coockies and 10 Choc coockies\n",
    "NoBowl1V=30\n",
    "NoBowl1C=10\n",
    "# First Bowl 20 Vanilla Coockies and 20 Choc coockies\n",
    "NoBow2V=20\n",
    "NoBowl2C=20"
   ]
  },
  {
   "cell_type": "code",
   "execution_count": 264,
   "metadata": {},
   "outputs": [],
   "source": [
    "# Mark each coockies with the Bowl it is belonging and which type it is V for Vanilla and C for Chocolate\n",
    "bowl1=[\"B1V\"+str(i) for i in range(1,NoBowl1V+1)]\n",
    "bowl1.extend([\"B1C\"+str(i) for i in range(1,NoBowl1C+1)])\n",
    "\n",
    "bowl2=[\"B2V\"+str(i) for i in range(1,NoBow2V+1)]\n",
    "bowl2.extend([\"B2C\"+str(i) for i in range(1,NoBowl2C+1)])\n"
   ]
  },
  {
   "cell_type": "code",
   "execution_count": 91,
   "metadata": {},
   "outputs": [
    {
     "name": "stdout",
     "output_type": "stream",
     "text": [
      "['B1V1', 'B1V2', 'B1V3', 'B1V4', 'B1V5', 'B1V6', 'B1V7', 'B1V8', 'B1V9', 'B1V10', 'B1V11', 'B1V12', 'B1V13', 'B1V14', 'B1V15', 'B1V16', 'B1V17', 'B1V18', 'B1V19', 'B1V20', 'B1V21', 'B1V22', 'B1V23', 'B1V24', 'B1V25', 'B1V26', 'B1V27', 'B1V28', 'B1V29', 'B1V30', 'B1C1', 'B1C2', 'B1C3', 'B1C4', 'B1C5', 'B1C6', 'B1C7', 'B1C8', 'B1C9', 'B1C10'] ['B2V1', 'B2V2', 'B2V3', 'B2V4', 'B2V5', 'B2V6', 'B2V7', 'B2V8', 'B2V9', 'B2V10', 'B2V11', 'B2V12', 'B2V13', 'B2V14', 'B2V15', 'B2V16', 'B2V17', 'B2V18', 'B2V19', 'B2V20', 'B2C1', 'B2C2', 'B2C3', 'B2C4', 'B2C5', 'B2C6', 'B2C7', 'B2C8', 'B2C9', 'B2C10', 'B2C11', 'B2C12', 'B2C13', 'B2C14', 'B2C15', 'B2C16', 'B2C17', 'B2C18', 'B2C19', 'B2C20']\n"
     ]
    }
   ],
   "source": [
    "# check for coockies in each bowl\n",
    "print(bowl1,bowl2)"
   ]
  },
  {
   "cell_type": "code",
   "execution_count": 267,
   "metadata": {},
   "outputs": [
    {
     "data": {
      "text/plain": [
       "0.7359999999999998"
      ]
     },
     "execution_count": 267,
     "metadata": {},
     "output_type": "execute_result"
    }
   ],
   "source": [
    "# With sampling find the probability of picking Vanilla Coockie from Bowl 1 ; which is 30/40 =0.75\n",
    "\n",
    "np.mean([len([i for i in random.sample(bowl1,10) if i[0:3]=='B1V'])/10 for j in range(100)])"
   ]
  },
  {
   "cell_type": "code",
   "execution_count": 269,
   "metadata": {},
   "outputs": [
    {
     "data": {
      "text/plain": [
       "0.51"
      ]
     },
     "execution_count": 269,
     "metadata": {},
     "output_type": "execute_result"
    }
   ],
   "source": [
    "# With sampling find the probability of picking Vanilla Coockie from Bowl 2 ; which is 20/40 =0.5\n",
    "\n",
    "np.mean([len([i for i in random.sample(bowl2,10) if i[0:3]=='B2V'])/10 for j in range(100)])"
   ]
  },
  {
   "cell_type": "code",
   "execution_count": 100,
   "metadata": {},
   "outputs": [],
   "source": [
    "# add both Bowl 1 and Bowl 2 cookies to find the conditional probability;\n",
    "AllCookies=bowl1+bowl2"
   ]
  },
  {
   "cell_type": "code",
   "execution_count": 276,
   "metadata": {},
   "outputs": [
    {
     "data": {
      "text/plain": [
       "0.5897460317460317"
      ]
     },
     "execution_count": 276,
     "metadata": {},
     "output_type": "execute_result"
    }
   ],
   "source": [
    "# P(Bowl 1|Vanilla coockie) =[p(Bowl 1)* p(Vanilla |Bowl 1)]/p(Vanilla)=[1/2*3/4]/(5/8)=3/5=0.6\n",
    "m=[]\n",
    "for k in range(100):\n",
    "    s=random.sample(AllCookies,10)\n",
    "    m.append(len([i for i in s if i[0:3]=='B1V'])/len([i for i in s if i[2]=='V']))\n",
    "    \n",
    "np.mean(m)    "
   ]
  },
  {
   "cell_type": "code",
   "execution_count": null,
   "metadata": {},
   "outputs": [],
   "source": []
  },
  {
   "cell_type": "code",
   "execution_count": null,
   "metadata": {},
   "outputs": [],
   "source": []
  }
 ],
 "metadata": {
  "kernelspec": {
   "display_name": "Python 3",
   "language": "python",
   "name": "python3"
  },
  "language_info": {
   "codemirror_mode": {
    "name": "ipython",
    "version": 3
   },
   "file_extension": ".py",
   "mimetype": "text/x-python",
   "name": "python",
   "nbconvert_exporter": "python",
   "pygments_lexer": "ipython3",
   "version": "3.7.3"
  }
 },
 "nbformat": 4,
 "nbformat_minor": 4
}
